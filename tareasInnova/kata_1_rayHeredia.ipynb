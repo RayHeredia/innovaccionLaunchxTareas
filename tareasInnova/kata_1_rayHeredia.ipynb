{
 "cells": [
  {
   "cell_type": "markdown",
   "metadata": {},
   "source": [
    "# Módulo 1\n",
    "## Kata_01_rayHeredia\n",
    "### Ejercicios del Módulo"
   ]
  },
  {
   "cell_type": "code",
   "execution_count": 1,
   "metadata": {},
   "outputs": [
    {
     "name": "stdout",
     "output_type": "stream",
     "text": [
      "6\n"
     ]
    }
   ],
   "source": [
    "sum = 1 + 2 # 3\n",
    "product = sum * 2\n",
    "print(product)"
   ]
  },
  {
   "cell_type": "code",
   "execution_count": 3,
   "metadata": {},
   "outputs": [
    {
     "name": "stdout",
     "output_type": "stream",
     "text": [
      "2022-02-13\n",
      "La fecha de hoy es :2022-02-13\n"
     ]
    }
   ],
   "source": [
    "from datetime import date \n",
    "date.today()\n",
    "print(date.today())\n",
    "print(\"La fecha de hoy es :\" + str(date.today()))"
   ]
  },
  {
   "cell_type": "code",
   "execution_count": 5,
   "metadata": {},
   "outputs": [
    {
     "name": "stdout",
     "output_type": "stream",
     "text": [
      "Calculadora\n",
      "12\n"
     ]
    }
   ],
   "source": [
    "print(\"Calculadora\")\n",
    "pNumero = input(\"Primer Número: \")\n",
    "sNumero = input(\"Segundon Número: \")\n",
    "print(int(pNumero) + int(sNumero))"
   ]
  },
  {
   "cell_type": "markdown",
   "metadata": {},
   "source": [
    "### Kata_01\n"
   ]
  },
  {
   "cell_type": "code",
   "execution_count": 6,
   "metadata": {},
   "outputs": [
    {
     "name": "stdout",
     "output_type": "stream",
     "text": [
      "La fecha de hoy es :2022-02-13\n"
     ]
    }
   ],
   "source": [
    "## creación de fecha\n",
    "\n",
    "from datetime import date \n",
    "date.today()\n",
    "print(\"La fecha de hoy es :\" + str(date.today()))"
   ]
  },
  {
   "cell_type": "code",
   "execution_count": 12,
   "metadata": {},
   "outputs": [
    {
     "name": "stdout",
     "output_type": "stream",
     "text": [
      "44 parsec, es 143.50863999999999  AñosLuz\n"
     ]
    }
   ],
   "source": [
    "## convertidor de parcel a años luz\n",
    "\n",
    "parsec = input(\"Dame el número de Parsec :\")\n",
    "lightyears = 3.26156 * int(parsec)\n",
    "print(str(parsec) + \" parsec, es \" + str(lightyears) + \"  AñosLuz\" )"
   ]
  }
 ],
 "metadata": {
  "interpreter": {
   "hash": "39620b7ca1ce3e7e0038f7ad1af6ff891e546cae446eb592765669075dc0c95a"
  },
  "kernelspec": {
   "display_name": "Python 3.9.10 64-bit (windows store)",
   "language": "python",
   "name": "python3"
  },
  "language_info": {
   "codemirror_mode": {
    "name": "ipython",
    "version": 3
   },
   "file_extension": ".py",
   "mimetype": "text/x-python",
   "name": "python",
   "nbconvert_exporter": "python",
   "pygments_lexer": "ipython3",
   "version": "3.9.10"
  },
  "orig_nbformat": 4
 },
 "nbformat": 4,
 "nbformat_minor": 2
}
