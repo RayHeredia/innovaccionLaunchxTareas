{
 "cells": [
  {
   "cell_type": "markdown",
   "metadata": {},
   "source": [
    "# Kata 05 Operadores"
   ]
  },
  {
   "cell_type": "code",
   "execution_count": 9,
   "metadata": {},
   "outputs": [
    {
     "name": "stdout",
     "output_type": "stream",
     "text": [
      "390577534\n"
     ]
    }
   ],
   "source": [
    "# Variables\n",
    "\n",
    "tierra = 149597870\n",
    "jupiter = 778547200\n",
    "millas = 0.621\n",
    "\n",
    "print(round(abs(tierra - jupiter) * millas))\n"
   ]
  },
  {
   "cell_type": "code",
   "execution_count": 4,
   "metadata": {},
   "outputs": [
    {
     "name": "stdout",
     "output_type": "stream",
     "text": [
      "13732192\n"
     ]
    }
   ],
   "source": [
    "#variables\n",
    "\n",
    "planeta1= input(\"Dame la distancia del primer plantea:\")\n",
    "plantea2= input(\"Dame la distancia del Segundo planeta:\")\n",
    "millas = 0.621\n",
    "\n",
    "print(round(abs(int(planeta1) - int(plantea2)) * millas))"
   ]
  }
 ],
 "metadata": {
  "interpreter": {
   "hash": "39620b7ca1ce3e7e0038f7ad1af6ff891e546cae446eb592765669075dc0c95a"
  },
  "kernelspec": {
   "display_name": "Python 3.9.10 64-bit (windows store)",
   "language": "python",
   "name": "python3"
  },
  "language_info": {
   "codemirror_mode": {
    "name": "ipython",
    "version": 3
   },
   "file_extension": ".py",
   "mimetype": "text/x-python",
   "name": "python",
   "nbconvert_exporter": "python",
   "pygments_lexer": "ipython3",
   "version": "3.9.10"
  },
  "orig_nbformat": 4
 },
 "nbformat": 4,
 "nbformat_minor": 2
}
