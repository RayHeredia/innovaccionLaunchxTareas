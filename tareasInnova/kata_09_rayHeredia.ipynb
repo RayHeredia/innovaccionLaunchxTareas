{
 "cells": [
  {
   "cell_type": "markdown",
   "metadata": {},
   "source": [
    "# Kata 9 Funciones"
   ]
  },
  {
   "cell_type": "code",
   "execution_count": 15,
   "metadata": {},
   "outputs": [
    {
     "name": "stdout",
     "output_type": "stream",
     "text": [
      "\"Reporte de combustible:\n",
      "    Promedio : 51%\n",
      "    Tanke 1 : 33%\n",
      "    Tanke 2 : 44%\n",
      "    Tanke 3 : 77% \n"
     ]
    }
   ],
   "source": [
    "def combustible(tanque1, tanque2, tanque3):\n",
    "    promedio = calcularPromedio([tanque1, tanque2, tanque3])\n",
    "    return f\"\"\"\"Reporte de combustible:\n",
    "    Promedio : {round(promedio)}%\n",
    "    Tanke 1 : {tanque1}%\n",
    "    Tanke 2 : {tanque2}%\n",
    "    Tanke 3 : {tanque3}% \"\"\"\n",
    "\n",
    "def calcularPromedio(valores):\n",
    "    total = sum(valores)\n",
    "    cantidad = len(valores)\n",
    "    return total / cantidad\n",
    "\n",
    "print(combustible(33, 44, 77))"
   ]
  },
  {
   "cell_type": "code",
   "execution_count": 22,
   "metadata": {},
   "outputs": [
    {
     "name": "stdout",
     "output_type": "stream",
     "text": [
      "Misión a Luna\n",
      "Tiempo total de viaje: 114\n",
      "Total de combustible: 4049999\n",
      "Principal tanque : 50000 galones\n",
      "Externo tanque : 3999999 galones\n",
      "\n"
     ]
    }
   ],
   "source": [
    "def reporteMision(destino, *minutos, **combustibleR):\n",
    "    reporte = f\"\"\"Misión a {destino}\n",
    "Tiempo total de viaje: {sum(minutos)}\n",
    "Total de combustible: {sum(combustibleR.values())}\n",
    "\"\"\"\n",
    "    for tanke, galones in combustibleR.items():\n",
    "        reporte += f\"{tanke.title()} tanque : {galones} galones\\n\"\n",
    "\n",
    "    return reporte\n",
    "\n",
    "print(reporteMision(\"Luna\", 15, 44 , 55 , principal=50000, externo=3999999))"
   ]
  }
 ],
 "metadata": {
  "interpreter": {
   "hash": "39620b7ca1ce3e7e0038f7ad1af6ff891e546cae446eb592765669075dc0c95a"
  },
  "kernelspec": {
   "display_name": "Python 3.9.10 64-bit (windows store)",
   "language": "python",
   "name": "python3"
  },
  "language_info": {
   "codemirror_mode": {
    "name": "ipython",
    "version": 3
   },
   "file_extension": ".py",
   "mimetype": "text/x-python",
   "name": "python",
   "nbconvert_exporter": "python",
   "pygments_lexer": "ipython3",
   "version": "3.9.10"
  },
  "orig_nbformat": 4
 },
 "nbformat": 4,
 "nbformat_minor": 2
}
