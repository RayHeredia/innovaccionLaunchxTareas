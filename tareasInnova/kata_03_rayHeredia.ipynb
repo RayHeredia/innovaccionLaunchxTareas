{
 "cells": [
  {
   "cell_type": "markdown",
   "metadata": {},
   "source": [
    "# Kata 03 Condicionales"
   ]
  },
  {
   "cell_type": "code",
   "execution_count": 2,
   "metadata": {},
   "outputs": [
    {
     "name": "stdout",
     "output_type": "stream",
     "text": [
      "Advertencia. Asteroide peligroso detectado!!\n"
     ]
    }
   ],
   "source": [
    "# Argumento :Para este ejercicio, escribirás una lógica condicional que imprima una advertencia si un asteroide se acerca a la Tierra demasiado rápido. La velocidad del asteroide varía dependiendo de lo cerca que esté del sol, y cualquier velocidad superior a 25 kilómetros por segundo (km/s) merece una advertencia.\n",
    "# Un asteroide se acerca, y viaja a una velocidad de 49 km/s.\n",
    "\n",
    "#variables\n",
    "velAsteroide = 49\n",
    "\n",
    "if velAsteroide > 25:\n",
    "    print(\"Advertencia. Asteroide peligroso detectado!!\")\n",
    "else:\n",
    "    print(\"No hay peligro\")"
   ]
  },
  {
   "cell_type": "code",
   "execution_count": 3,
   "metadata": {},
   "outputs": [
    {
     "name": "stdout",
     "output_type": "stream",
     "text": [
      "Nada a la vista\n"
     ]
    }
   ],
   "source": [
    "# Añadir el código necesario para crear una variable que guarde la velocidad del asteroide.\n",
    "# Escribe una expresión de prueba para calcular si necesita una advertencia.\n",
    "# Agregue las instrucciones que se ejecutarán si la expresión de prueba es true o false.\n",
    "\n",
    "#variables\n",
    "velAsteroide = 19\n",
    "\n",
    "if velAsteroide >= 20:\n",
    "    print(\"Aparecerá una estrella fugas en el cielo\")\n",
    "else:\n",
    "    print(\"Nada a la vista\")"
   ]
  },
  {
   "cell_type": "code",
   "execution_count": 7,
   "metadata": {},
   "outputs": [
    {
     "name": "stdout",
     "output_type": "stream",
     "text": [
      "Advertencia Peligro Inminente\n"
     ]
    }
   ],
   "source": [
    "# Agrega el código para crear nuevas variables para la velocidad y el tamaño del asteroide\n",
    "# Para probar el código, prueba con varias velocidades y tamaños\n",
    "# Escribe varias expresiones de prueba o combinaciones de expresiones de prueba para determinar qué mensaje se debe enviar a Tierra.\n",
    "\n",
    "#variables\n",
    "velAsteroide = input(\"Dame la velocidad del Asteroide : \")\n",
    "tamAsteroide = input(\"Dame el tamaño del asteroide : \")\n",
    "\n",
    "if int(velAsteroide) > 25 and int(tamAsteroide) > 25:\n",
    "    print(\"Advertencia Peligro Inminente\")\n",
    "elif int(velAsteroide) >= 20 and int(tamAsteroide) < 25:\n",
    "    print(\"Aparecerá una estrella fugas en el cielo\")\n",
    "else:\n",
    "    print(\"Nada Inusual\")"
   ]
  }
 ],
 "metadata": {
  "interpreter": {
   "hash": "39620b7ca1ce3e7e0038f7ad1af6ff891e546cae446eb592765669075dc0c95a"
  },
  "kernelspec": {
   "display_name": "Python 3.9.10 64-bit (windows store)",
   "language": "python",
   "name": "python3"
  },
  "language_info": {
   "codemirror_mode": {
    "name": "ipython",
    "version": 3
   },
   "file_extension": ".py",
   "mimetype": "text/x-python",
   "name": "python",
   "nbconvert_exporter": "python",
   "pygments_lexer": "ipython3",
   "version": "3.9.10"
  },
  "orig_nbformat": 4
 },
 "nbformat": 4,
 "nbformat_minor": 2
}
