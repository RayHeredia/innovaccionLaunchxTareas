{
 "cells": [
  {
   "cell_type": "markdown",
   "metadata": {},
   "source": [
    "# Kata 6 Listas"
   ]
  },
  {
   "cell_type": "code",
   "execution_count": 3,
   "metadata": {},
   "outputs": [
    {
     "name": "stdout",
     "output_type": "stream",
     "text": [
      "Hay 8 Planetas El ultimo planeta es : Pluton\n"
     ]
    }
   ],
   "source": [
    "#variables \n",
    "\n",
    "planetas = ['Mercurio', 'Venus', 'Tierra', 'Marte', 'Jupiter', 'Saturno', 'Neptuno']\n",
    "\n",
    "planetas.append('Pluton')\n",
    "print(\"Hay\", len(planetas), \"Planetas\",\"El ultimo planeta es :\", planetas[-1])"
   ]
  },
  {
   "cell_type": "code",
   "execution_count": 6,
   "metadata": {},
   "outputs": [
    {
     "name": "stdout",
     "output_type": "stream",
     "text": [
      "Marte Y los planetas mas cercanos al sol son : ['Mercurio', 'Venus', 'Tierra']\n",
      "Y los mas alejasdos del sol son  ['Jupiter', 'Saturno', 'Neptuno', 'Pluton']\n"
     ]
    }
   ],
   "source": [
    "#variables\n",
    "\n",
    "pedidoU = input(\"Dame el numbre del planeta (primera letra en Mayusculas)\")\n",
    "busqueda = planetas.index(pedidoU)\n",
    "\n",
    "print(pedidoU, \"Y los planetas mas cercanos al sol son :\" , planetas[0:busqueda])\n",
    "print(\"Y los mas alejasdos del sol son \", planetas[busqueda + 1:])"
   ]
  }
 ],
 "metadata": {
  "interpreter": {
   "hash": "39620b7ca1ce3e7e0038f7ad1af6ff891e546cae446eb592765669075dc0c95a"
  },
  "kernelspec": {
   "display_name": "Python 3.9.10 64-bit (windows store)",
   "language": "python",
   "name": "python3"
  },
  "language_info": {
   "codemirror_mode": {
    "name": "ipython",
    "version": 3
   },
   "file_extension": ".py",
   "mimetype": "text/x-python",
   "name": "python",
   "nbconvert_exporter": "python",
   "pygments_lexer": "ipython3",
   "version": "3.9.10"
  },
  "orig_nbformat": 4
 },
 "nbformat": 4,
 "nbformat_minor": 2
}
